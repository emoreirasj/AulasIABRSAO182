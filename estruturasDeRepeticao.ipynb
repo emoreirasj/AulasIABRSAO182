{
 "cells": [
  {
   "cell_type": "code",
   "execution_count": 2,
   "id": "e450d122",
   "metadata": {},
   "outputs": [],
   "source": [
    "# estrutura de repetição IF ELIF ELSE\n",
    "\n",
    "x = 12\n",
    "\n",
    "if x < 10:\n",
    "    print(\"x é menor que 10\")"
   ]
  },
  {
   "cell_type": "code",
   "execution_count": 4,
   "id": "87d71873",
   "metadata": {},
   "outputs": [
    {
     "name": "stdout",
     "output_type": "stream",
     "text": [
      "x é maior que 10\n"
     ]
    }
   ],
   "source": [
    "if x < 10:\n",
    "    print(\"x é menor que 10\")\n",
    "else:\n",
    "    print(\"x é maior que 10\")"
   ]
  },
  {
   "cell_type": "code",
   "execution_count": 6,
   "id": "d3842417",
   "metadata": {},
   "outputs": [
    {
     "name": "stdout",
     "output_type": "stream",
     "text": [
      "x é igual a 10\n"
     ]
    }
   ],
   "source": [
    "x = 10\n",
    "if x < 10:\n",
    "    print(\"x é menor que 10\")\n",
    "elif x == 10:\n",
    "    print(\"x é igual a 10\")\n",
    "else:\n",
    "    print(\"x é maior que 10\")"
   ]
  },
  {
   "cell_type": "code",
   "execution_count": 7,
   "id": "b2561330",
   "metadata": {},
   "outputs": [
    {
     "name": "stdout",
     "output_type": "stream",
     "text": [
      "Contador: 0\n",
      "Contador: 1\n",
      "Contador: 2\n",
      "Contador: 3\n",
      "Contador: 4\n",
      "Contador: 5\n",
      "Contador: 6\n",
      "Contador: 7\n",
      "Contador: 8\n",
      "Contador: 9\n"
     ]
    }
   ],
   "source": [
    "# while, executa o bloco de código enquanto a condição for verdadeira\n",
    "contador = 0\n",
    "while contador < 10:\n",
    "    print(\"Contador:\", contador)\n",
    "    contador += 1"
   ]
  },
  {
   "cell_type": "code",
   "execution_count": 8,
   "id": "c7683daf",
   "metadata": {},
   "outputs": [
    {
     "name": "stdout",
     "output_type": "stream",
     "text": [
      "Senha correta!\n"
     ]
    }
   ],
   "source": [
    "senha = \"\"\n",
    "while senha != \"1234\":\n",
    "    senha = input(\"Digite a senha: \")\n",
    "print(\"Senha correta!\")"
   ]
  },
  {
   "cell_type": "code",
   "execution_count": 9,
   "id": "9e967a2e",
   "metadata": {},
   "outputs": [
    {
     "name": "stdout",
     "output_type": "stream",
     "text": [
      "\n",
      "Menu:\n",
      "1 - Ver dados\n",
      "2 - Editar dados\n",
      "Digite 'sair' para encerrar.\n",
      "\n",
      "Menu:\n",
      "1 - Ver dados\n",
      "2 - Editar dados\n",
      "Digite 'sair' para encerrar.\n",
      "\n",
      "Menu:\n",
      "1 - Ver dados\n",
      "2 - Editar dados\n",
      "Digite 'sair' para encerrar.\n",
      "Programa encerrado.\n"
     ]
    }
   ],
   "source": [
    "opcao = \"\"\n",
    "\n",
    "while opcao != \"sair\":\n",
    "    print(\"\\nMenu:\")\n",
    "    print(\"1 - Ver dados\")\n",
    "    print(\"2 - Editar dados\")\n",
    "    print(\"Digite 'sair' para encerrar.\")\n",
    "    \n",
    "    opcao = input(\"Escolha uma opção: \")\n",
    "\n",
    "print(\"Programa encerrado.\")"
   ]
  },
  {
   "cell_type": "code",
   "execution_count": 11,
   "id": "e9a2be19",
   "metadata": {},
   "outputs": [
    {
     "name": "stdout",
     "output_type": "stream",
     "text": [
      "Você digitou: 10\n",
      "Você digitou: 36\n",
      "Você digitou 'fim'. Saindo do loop.\n"
     ]
    }
   ],
   "source": [
    "while True:\n",
    "    numero = input(\"Digite um número (ou 'fim' para sair): \")\n",
    "    if numero == 'fim':\n",
    "        print(\"Você digitou 'fim'. Saindo do loop.\")\n",
    "        break\n",
    "    print(f\"Você digitou: {numero}\")"
   ]
  }
 ],
 "metadata": {
  "kernelspec": {
   "display_name": ".venv",
   "language": "python",
   "name": "python3"
  },
  "language_info": {
   "codemirror_mode": {
    "name": "ipython",
    "version": 3
   },
   "file_extension": ".py",
   "mimetype": "text/x-python",
   "name": "python",
   "nbconvert_exporter": "python",
   "pygments_lexer": "ipython3",
   "version": "3.12.2"
  }
 },
 "nbformat": 4,
 "nbformat_minor": 5
}
