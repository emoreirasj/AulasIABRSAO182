{
 "cells": [
  {
   "cell_type": "code",
   "execution_count": 18,
   "id": "2474abca",
   "metadata": {},
   "outputs": [],
   "source": [
    "# Funções\n",
    "lista = []\n",
    "\n",
    "def saudacao():\n",
    "    print('Olá, seja bem-vindo!')\n",
    "\n",
    "def saudacaoDeSaida():\n",
    "    print('Obrigado por utilizar nosso sistema!')\n",
    "\n",
    "def numerosDoUsuario():\n",
    "    while True:\n",
    "        numero = input('Digite um número inteiro positivo ou digite Sair: ')\n",
    "        if numero == 'Sair':\n",
    "            break \n",
    "        else:\n",
    "            lista.append(int(numero))"
   ]
  },
  {
   "cell_type": "code",
   "execution_count": null,
   "id": "adfc5b63",
   "metadata": {},
   "outputs": [
    {
     "name": "stdout",
     "output_type": "stream",
     "text": [
      "Olá, seja bem-vindo!\n",
      "[1]\n",
      "[1, 2]\n",
      "3\n",
      "Obrigado por utilizar nosso sistema!\n"
     ]
    }
   ],
   "source": [
    "# Programa configurado, organizado\n",
    "saudacao()\n",
    "\n",
    "numerosDoUsuario()\n",
    "\n",
    "print(lista)\n",
    "\n",
    "numerosDoUsuario()\n",
    "\n",
    "print(lista)\n",
    "\n",
    "print(sum(lista))\n",
    "\n",
    "saudacaoDeSaida()"
   ]
  },
  {
   "cell_type": "code",
   "execution_count": 24,
   "id": "77499112",
   "metadata": {},
   "outputs": [
    {
     "data": {
      "text/plain": [
       "10"
      ]
     },
     "execution_count": 24,
     "metadata": {},
     "output_type": "execute_result"
    }
   ],
   "source": [
    "def soma(a:int , b:int):\n",
    "    resultado = a + b\n",
    "    return resultado\n",
    "\n",
    "valor1 = int(input('Digite o primeiro valor: '))\n",
    "valor2 = int(input('Digite o segundo valor: '))\n",
    "\n",
    "soma(valor1, valor2)"
   ]
  }
 ],
 "metadata": {
  "kernelspec": {
   "display_name": ".venv",
   "language": "python",
   "name": "python3"
  },
  "language_info": {
   "codemirror_mode": {
    "name": "ipython",
    "version": 3
   },
   "file_extension": ".py",
   "mimetype": "text/x-python",
   "name": "python",
   "nbconvert_exporter": "python",
   "pygments_lexer": "ipython3",
   "version": "3.12.2"
  }
 },
 "nbformat": 4,
 "nbformat_minor": 5
}
