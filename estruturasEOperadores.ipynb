{
 "cells": [
  {
   "cell_type": "markdown",
   "id": "d2368b59",
   "metadata": {},
   "source": [
    "Identação em python\n",
    "\n",
    "    É de extrme importância para a identificação dos blocos de código."
   ]
  },
  {
   "cell_type": "code",
   "execution_count": null,
   "id": "afc25539",
   "metadata": {},
   "outputs": [
    {
     "name": "stdout",
     "output_type": "stream",
     "text": [
      "Olá, Turma!\n"
     ]
    }
   ],
   "source": [
    "# Função de saudação ao usuário\n",
    "def saudacao():\n",
    "    print('Olá, Turma!')\n",
    "\n",
    "saudacao()"
   ]
  },
  {
   "cell_type": "code",
   "execution_count": 5,
   "id": "f2e3cce0",
   "metadata": {},
   "outputs": [
    {
     "name": "stdout",
     "output_type": "stream",
     "text": [
      "x é igual a 5\n"
     ]
    }
   ],
   "source": [
    "# Verificação do valor da variável\n",
    "\n",
    "x = 5\n",
    "if x<5:\n",
    "    print('x é menor que 5')\n",
    "    print('tente novamente')\n",
    "elif x==5:\n",
    "    print('x é igual a 5')\n",
    "\n"
   ]
  },
  {
   "cell_type": "code",
   "execution_count": 8,
   "id": "c662ffc8",
   "metadata": {},
   "outputs": [
    {
     "name": "stdout",
     "output_type": "stream",
     "text": [
      "<class 'str'>\n",
      "<class 'int'>\n",
      "<class 'float'>\n",
      "<class 'bool'>\n",
      "<class 'float'>\n"
     ]
    }
   ],
   "source": [
    "# Variáveis\n",
    "\n",
    "nome = \"Alice\"\n",
    "idade = 25\n",
    "altura = 1.68\n",
    "estudante = True\n",
    "\n",
    "print(type(nome))\n",
    "print(type(idade))\n",
    "print(type(altura))\n",
    "print(type(estudante))\n",
    "\n",
    "idade = 25.5\n",
    "\n",
    "print(type(idade))"
   ]
  },
  {
   "cell_type": "code",
   "execution_count": null,
   "id": "c9d167b5",
   "metadata": {},
   "outputs": [
    {
     "name": "stdout",
     "output_type": "stream",
     "text": [
      "Soma 12\n",
      "Subtração 8\n",
      "Multiplicação 20\n",
      "Divisão 5.0\n",
      "Divisão inteira 5\n",
      "Módulo 0\n",
      "Potência 100\n"
     ]
    }
   ],
   "source": [
    "a = 10\n",
    "b = 2\n",
    "\n",
    "print('Soma', a + b)\n",
    "print('Subtração', a - b)\n",
    "print('Multiplicação', a * b)\n",
    "print('Divisão', a / b)\n",
    "print('Divisão inteira', a // b)\n",
    "print('Módulo', a % b)\n",
    "print('Potência', a ** b)\n",
    "# Operadores de aritiméticos"
   ]
  },
  {
   "cell_type": "code",
   "execution_count": 11,
   "id": "aa2be518",
   "metadata": {},
   "outputs": [
    {
     "name": "stdout",
     "output_type": "stream",
     "text": [
      "Igualdade False\n",
      "Diferença True\n",
      "Maior True\n",
      "Menor False\n",
      "Maior ou igual True\n",
      "Menor ou igual False\n"
     ]
    }
   ],
   "source": [
    "x = 10\n",
    "y = 5\n",
    "\n",
    "print('Igualdade', x == y)\n",
    "print('Diferença', x != y)\n",
    "print('Maior', x > y)\n",
    "print('Menor', x < y)\n",
    "print('Maior ou igual', x >= y)\n",
    "print('Menor ou igual', x <= y)\n",
    "# Operadores de comparação"
   ]
  },
  {
   "cell_type": "code",
   "execution_count": 12,
   "id": "c73e792d",
   "metadata": {},
   "outputs": [
    {
     "name": "stdout",
     "output_type": "stream",
     "text": [
      "Igualdade False\n",
      "Diferença True\n",
      "Maior False\n",
      "Menor True\n",
      "Maior ou igual False\n",
      "Menor ou igual True\n"
     ]
    }
   ],
   "source": [
    "x = 'Edson'\n",
    "y = \"Manoel\"\n",
    "\n",
    "print('Igualdade', x == y)\n",
    "print('Diferença', x != y)\n",
    "print('Maior', x > y)\n",
    "print('Menor', x < y)\n",
    "print('Maior ou igual', x >= y)\n",
    "print('Menor ou igual', x <= y)\n",
    "# Operadores de comparação"
   ]
  },
  {
   "cell_type": "code",
   "execution_count": 16,
   "id": "ec99735c",
   "metadata": {},
   "outputs": [
    {
     "name": "stdout",
     "output_type": "stream",
     "text": [
      "Sua idade + 5 é: 10\n"
     ]
    }
   ],
   "source": [
    "idade = int(input('Digite sua idade: '))\n",
    "idade = idade + 5 \n",
    "print('Sua idade + 5 é:', idade)"
   ]
  },
  {
   "cell_type": "code",
   "execution_count": 17,
   "id": "72e4c985",
   "metadata": {},
   "outputs": [
    {
     "name": "stdout",
     "output_type": "stream",
     "text": [
      "Você é maior de idade\n"
     ]
    }
   ],
   "source": [
    "idade = int(input('Digite sua idade: '))\n",
    "\n",
    "if idade >= 18:\n",
    "    print('Você é maior de idade')\n",
    "else:\n",
    "    print('Você é menor de idade')"
   ]
  },
  {
   "cell_type": "code",
   "execution_count": 23,
   "id": "80a27167",
   "metadata": {},
   "outputs": [
    {
     "name": "stdout",
     "output_type": "stream",
     "text": [
      "Você é obrigado a votar\n"
     ]
    }
   ],
   "source": [
    "idade = int(input('Digite sua idade: '))\n",
    "\n",
    "if idade >= 18:\n",
    "    print('Você é obrigado a votar')\n",
    "elif idade >= 16:\n",
    "    print('Você pode votar se quiser')\n",
    "else:\n",
    "    print('Você é menor de idade e não vota')"
   ]
  },
  {
   "cell_type": "code",
   "execution_count": null,
   "id": "2396ef18",
   "metadata": {},
   "outputs": [
    {
     "name": "stdout",
     "output_type": "stream",
     "text": [
      "Você é menor de idade e não vota\n"
     ]
    }
   ],
   "source": [
    "def idadeUsusario():\n",
    "    insertIdadeUsusario = int(input('Digite sua idade: '))\n",
    "    return insertIdadeUsusario\n",
    "\n",
    "\n",
    "\n",
    "def eleitor(idade):\n",
    "\n",
    "    if idade >= 18:\n",
    "        print('Você é obrigado a votar')\n",
    "    elif idade >= 16:\n",
    "        print('Você pode votar se quiser')\n",
    "    else:\n",
    "        print('Você é menor de idade e não vota')\n",
    "    \n",
    "\n",
    "\n",
    "\n",
    "\n",
    "\n",
    "\n",
    "\n",
    "eleitor(idadeUsusario())"
   ]
  },
  {
   "cell_type": "code",
   "execution_count": null,
   "id": "911b504f",
   "metadata": {},
   "outputs": [
    {
     "name": "stdout",
     "output_type": "stream",
     "text": [
      "banana\n",
      "maca\n",
      "pera\n"
     ]
    }
   ],
   "source": [
    "frutas = ['banana', 'maca', 'pera']\n",
    "\n",
    "for x in frutas:\n",
    "    print(x)\n",
    "# Loop for"
   ]
  },
  {
   "cell_type": "code",
   "execution_count": 33,
   "id": "2e418260",
   "metadata": {},
   "outputs": [
    {
     "name": "stdout",
     "output_type": "stream",
     "text": [
      "1\n",
      "2\n",
      "3\n",
      "4\n",
      "5\n",
      "6\n",
      "7\n",
      "8\n",
      "9\n"
     ]
    }
   ],
   "source": [
    "for x in range(1, 10):\n",
    "    print(x)"
   ]
  },
  {
   "cell_type": "code",
   "execution_count": 34,
   "id": "aa84000f",
   "metadata": {},
   "outputs": [
    {
     "name": "stdout",
     "output_type": "stream",
     "text": [
      "banana\n"
     ]
    }
   ],
   "source": [
    "frutas = ['banana', 'maca', 'pera']\n",
    "\n",
    "for x in frutas:\n",
    "    if x == 'maca':\n",
    "        break\n",
    "    print(x)"
   ]
  },
  {
   "cell_type": "code",
   "execution_count": 35,
   "id": "ffbc97a5",
   "metadata": {},
   "outputs": [
    {
     "name": "stdout",
     "output_type": "stream",
     "text": [
      "banana\n",
      "pera\n"
     ]
    }
   ],
   "source": [
    "frutas = ['banana', 'maca', 'pera']\n",
    "\n",
    "for x in frutas:\n",
    "    if x == 'maca':\n",
    "        continue\n",
    "    print(x)"
   ]
  },
  {
   "cell_type": "code",
   "execution_count": null,
   "id": "f85da787",
   "metadata": {},
   "outputs": [
    {
     "name": "stdout",
     "output_type": "stream",
     "text": [
      "Erro: Divisão por zero não é permitida\n"
     ]
    }
   ],
   "source": [
    "try:\n",
    "    resultado = 10 /0 \n",
    "except ZeroDivisionError:\n",
    "    print('Erro: Divisão por zero não é permitida')\n"
   ]
  }
 ],
 "metadata": {
  "kernelspec": {
   "display_name": ".venv",
   "language": "python",
   "name": "python3"
  },
  "language_info": {
   "codemirror_mode": {
    "name": "ipython",
    "version": 3
   },
   "file_extension": ".py",
   "mimetype": "text/x-python",
   "name": "python",
   "nbconvert_exporter": "python",
   "pygments_lexer": "ipython3",
   "version": "3.12.2"
  }
 },
 "nbformat": 4,
 "nbformat_minor": 5
}
