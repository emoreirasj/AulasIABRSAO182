{
 "cells": [
  {
   "cell_type": "code",
   "execution_count": 1,
   "id": "7a26f03c",
   "metadata": {},
   "outputs": [
    {
     "name": "stdout",
     "output_type": "stream",
     "text": [
      "\n"
     ]
    }
   ],
   "source": [
    "arquivo = open(\"auladocs.txt\", \"r\")\n",
    "conteudo = arquivo.read()\n",
    "print(conteudo)\n",
    "arquivo.close()\n",
    "# O arquivo auladocs.txt deve estar no mesmo diretório que o script"
   ]
  },
  {
   "cell_type": "code",
   "execution_count": 6,
   "id": "bc929eee",
   "metadata": {},
   "outputs": [
    {
     "name": "stdout",
     "output_type": "stream",
     "text": [
      "Escrevendo no arquivo\n"
     ]
    }
   ],
   "source": [
    "arquivo = open(\"auladocs.txt\", \"w\")\n",
    "arquivo.write(\"Escrevendo no arquivo\")\n",
    "arquivo.close()\n",
    "arquivo = open(\"auladocs.txt\", \"r\")\n",
    "conteudo = arquivo.read()\n",
    "arquivo.close()\n",
    "print(conteudo)"
   ]
  },
  {
   "cell_type": "code",
   "execution_count": null,
   "id": "fab0c074",
   "metadata": {},
   "outputs": [
    {
     "name": "stdout",
     "output_type": "stream",
     "text": [
      "Escrevendo no arquivo\n",
      "Adicionando mais uma linha\n"
     ]
    }
   ],
   "source": [
    "arquivo = open(\"auladocs.txt\", \"a\")\n",
    "arquivo.write(\"\\nAdicionando mais uma linha\")\n",
    "arquivo.close()\n",
    "\n",
    "\n",
    "def ler_arquivo():\n",
    "    arquivo = open(\"auladocs.txt\", \"r\")\n",
    "    conteudo = arquivo.read()\n",
    "    arquivo.close()\n",
    "    print(conteudo)"
   ]
  },
  {
   "cell_type": "code",
   "execution_count": 8,
   "id": "95dd5b0d",
   "metadata": {},
   "outputs": [
    {
     "name": "stdout",
     "output_type": "stream",
     "text": [
      "Escrevendo no arquivo\n",
      "Adicionando mais uma linha\n"
     ]
    }
   ],
   "source": [
    "with open(\"auladocs.txt\", \"r\") as arquivo:\n",
    "    print(arquivo.read())"
   ]
  }
 ],
 "metadata": {
  "kernelspec": {
   "display_name": ".venv",
   "language": "python",
   "name": "python3"
  },
  "language_info": {
   "codemirror_mode": {
    "name": "ipython",
    "version": 3
   },
   "file_extension": ".py",
   "mimetype": "text/x-python",
   "name": "python",
   "nbconvert_exporter": "python",
   "pygments_lexer": "ipython3",
   "version": "3.12.2"
  }
 },
 "nbformat": 4,
 "nbformat_minor": 5
}
