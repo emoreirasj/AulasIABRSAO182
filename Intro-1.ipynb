{
 "cells": [
  {
   "cell_type": "markdown",
   "id": "c216a603",
   "metadata": {},
   "source": [
    "Aula de introdução a lógica da programação"
   ]
  },
  {
   "cell_type": "code",
   "execution_count": 3,
   "id": "977b7b30",
   "metadata": {},
   "outputs": [
    {
     "name": "stdout",
     "output_type": "stream",
     "text": [
      "Hello World!!!\n"
     ]
    }
   ],
   "source": [
    "print('Hello World!!!')"
   ]
  },
  {
   "cell_type": "markdown",
   "id": "37fd0000",
   "metadata": {},
   "source": [
    "Declarando uma variável."
   ]
  },
  {
   "cell_type": "code",
   "execution_count": 2,
   "id": "454f6afa",
   "metadata": {},
   "outputs": [
    {
     "name": "stdout",
     "output_type": "stream",
     "text": [
      "Olá mundo!!\n"
     ]
    }
   ],
   "source": [
    "saudacao = 'Olá mundo!!'\n",
    "print(saudacao)"
   ]
  }
 ],
 "metadata": {
  "kernelspec": {
   "display_name": ".venv",
   "language": "python",
   "name": "python3"
  },
  "language_info": {
   "codemirror_mode": {
    "name": "ipython",
    "version": 3
   },
   "file_extension": ".py",
   "mimetype": "text/x-python",
   "name": "python",
   "nbconvert_exporter": "python",
   "pygments_lexer": "ipython3",
   "version": "3.12.2"
  }
 },
 "nbformat": 4,
 "nbformat_minor": 5
}
